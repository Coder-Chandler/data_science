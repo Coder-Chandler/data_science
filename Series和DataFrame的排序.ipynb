{
 "cells": [
  {
   "cell_type": "code",
   "execution_count": 2,
   "metadata": {},
   "outputs": [],
   "source": [
    "import numpy as np\n",
    "import pandas as pd\n",
    "from pandas import Series, DataFrame"
   ]
  },
  {
   "cell_type": "markdown",
   "metadata": {},
   "source": [
    "# Series的排序"
   ]
  },
  {
   "cell_type": "code",
   "execution_count": 3,
   "metadata": {
    "collapsed": true
   },
   "outputs": [],
   "source": [
    "s1 = Series(np.random.randn(10))"
   ]
  },
  {
   "cell_type": "code",
   "execution_count": 4,
   "metadata": {},
   "outputs": [
    {
     "data": {
      "text/plain": [
       "0   -0.917049\n",
       "1    0.297366\n",
       "2    1.551671\n",
       "3    0.961190\n",
       "4    0.100402\n",
       "5   -1.189015\n",
       "6    0.310784\n",
       "7   -1.192725\n",
       "8   -0.542561\n",
       "9   -0.508422\n",
       "dtype: float64"
      ]
     },
     "execution_count": 4,
     "metadata": {},
     "output_type": "execute_result"
    }
   ],
   "source": [
    "s1"
   ]
  },
  {
   "cell_type": "code",
   "execution_count": 5,
   "metadata": {},
   "outputs": [
    {
     "data": {
      "text/plain": [
       "array([-0.91704946,  0.29736558,  1.55167073,  0.96119048,  0.10040183,\n",
       "       -1.18901452,  0.31078415, -1.19272538, -0.5425609 , -0.50842182])"
      ]
     },
     "execution_count": 5,
     "metadata": {},
     "output_type": "execute_result"
    }
   ],
   "source": [
    "s1.values"
   ]
  },
  {
   "cell_type": "code",
   "execution_count": 6,
   "metadata": {},
   "outputs": [
    {
     "data": {
      "text/plain": [
       "RangeIndex(start=0, stop=10, step=1)"
      ]
     },
     "execution_count": 6,
     "metadata": {},
     "output_type": "execute_result"
    }
   ],
   "source": [
    "s1.index"
   ]
  },
  {
   "cell_type": "code",
   "execution_count": 8,
   "metadata": {},
   "outputs": [
    {
     "data": {
      "text/plain": [
       "2    1.551671\n",
       "3    0.961190\n",
       "6    0.310784\n",
       "1    0.297366\n",
       "4    0.100402\n",
       "9   -0.508422\n",
       "8   -0.542561\n",
       "0   -0.917049\n",
       "5   -1.189015\n",
       "7   -1.192725\n",
       "dtype: float64"
      ]
     },
     "execution_count": 8,
     "metadata": {},
     "output_type": "execute_result"
    }
   ],
   "source": [
    "s1.sort_values(ascending=False)"
   ]
  },
  {
   "cell_type": "code",
   "execution_count": 9,
   "metadata": {},
   "outputs": [
    {
     "data": {
      "text/plain": [
       "9   -0.508422\n",
       "8   -0.542561\n",
       "7   -1.192725\n",
       "6    0.310784\n",
       "5   -1.189015\n",
       "4    0.100402\n",
       "3    0.961190\n",
       "2    1.551671\n",
       "1    0.297366\n",
       "0   -0.917049\n",
       "dtype: float64"
      ]
     },
     "execution_count": 9,
     "metadata": {},
     "output_type": "execute_result"
    }
   ],
   "source": [
    "s1.sort_index(ascending=False)"
   ]
  },
  {
   "cell_type": "markdown",
   "metadata": {},
   "source": [
    "# DataFrame的排序"
   ]
  },
  {
   "cell_type": "code",
   "execution_count": 13,
   "metadata": {
    "collapsed": true
   },
   "outputs": [],
   "source": [
    "df1 = DataFrame(np.random.randn(40).reshape(8,5), columns=['a','b','c','d','e'])"
   ]
  },
  {
   "cell_type": "code",
   "execution_count": 14,
   "metadata": {},
   "outputs": [
    {
     "data": {
      "text/html": [
       "<div>\n",
       "<style>\n",
       "    .dataframe thead tr:only-child th {\n",
       "        text-align: right;\n",
       "    }\n",
       "\n",
       "    .dataframe thead th {\n",
       "        text-align: left;\n",
       "    }\n",
       "\n",
       "    .dataframe tbody tr th {\n",
       "        vertical-align: top;\n",
       "    }\n",
       "</style>\n",
       "<table border=\"1\" class=\"dataframe\">\n",
       "  <thead>\n",
       "    <tr style=\"text-align: right;\">\n",
       "      <th></th>\n",
       "      <th>a</th>\n",
       "      <th>b</th>\n",
       "      <th>c</th>\n",
       "      <th>d</th>\n",
       "      <th>e</th>\n",
       "    </tr>\n",
       "  </thead>\n",
       "  <tbody>\n",
       "    <tr>\n",
       "      <th>0</th>\n",
       "      <td>-1.481874</td>\n",
       "      <td>0.463623</td>\n",
       "      <td>-0.278336</td>\n",
       "      <td>0.248913</td>\n",
       "      <td>-0.297516</td>\n",
       "    </tr>\n",
       "    <tr>\n",
       "      <th>1</th>\n",
       "      <td>-0.085626</td>\n",
       "      <td>-0.787537</td>\n",
       "      <td>0.594769</td>\n",
       "      <td>1.794650</td>\n",
       "      <td>0.994723</td>\n",
       "    </tr>\n",
       "    <tr>\n",
       "      <th>2</th>\n",
       "      <td>-0.472933</td>\n",
       "      <td>2.222980</td>\n",
       "      <td>0.628423</td>\n",
       "      <td>-0.246185</td>\n",
       "      <td>-0.690031</td>\n",
       "    </tr>\n",
       "    <tr>\n",
       "      <th>3</th>\n",
       "      <td>-0.268457</td>\n",
       "      <td>1.198783</td>\n",
       "      <td>0.076785</td>\n",
       "      <td>-1.007322</td>\n",
       "      <td>-1.138956</td>\n",
       "    </tr>\n",
       "    <tr>\n",
       "      <th>4</th>\n",
       "      <td>0.347379</td>\n",
       "      <td>1.034601</td>\n",
       "      <td>-1.158188</td>\n",
       "      <td>-0.377620</td>\n",
       "      <td>-2.246826</td>\n",
       "    </tr>\n",
       "    <tr>\n",
       "      <th>5</th>\n",
       "      <td>0.951870</td>\n",
       "      <td>-0.300156</td>\n",
       "      <td>-0.032580</td>\n",
       "      <td>1.774923</td>\n",
       "      <td>-0.468757</td>\n",
       "    </tr>\n",
       "    <tr>\n",
       "      <th>6</th>\n",
       "      <td>3.021240</td>\n",
       "      <td>-1.185422</td>\n",
       "      <td>1.276956</td>\n",
       "      <td>-0.665088</td>\n",
       "      <td>0.227943</td>\n",
       "    </tr>\n",
       "    <tr>\n",
       "      <th>7</th>\n",
       "      <td>0.858292</td>\n",
       "      <td>0.278474</td>\n",
       "      <td>-1.572653</td>\n",
       "      <td>0.414297</td>\n",
       "      <td>0.328744</td>\n",
       "    </tr>\n",
       "  </tbody>\n",
       "</table>\n",
       "</div>"
      ],
      "text/plain": [
       "          a         b         c         d         e\n",
       "0 -1.481874  0.463623 -0.278336  0.248913 -0.297516\n",
       "1 -0.085626 -0.787537  0.594769  1.794650  0.994723\n",
       "2 -0.472933  2.222980  0.628423 -0.246185 -0.690031\n",
       "3 -0.268457  1.198783  0.076785 -1.007322 -1.138956\n",
       "4  0.347379  1.034601 -1.158188 -0.377620 -2.246826\n",
       "5  0.951870 -0.300156 -0.032580  1.774923 -0.468757\n",
       "6  3.021240 -1.185422  1.276956 -0.665088  0.227943\n",
       "7  0.858292  0.278474 -1.572653  0.414297  0.328744"
      ]
     },
     "execution_count": 14,
     "metadata": {},
     "output_type": "execute_result"
    }
   ],
   "source": [
    "df1"
   ]
  },
  {
   "cell_type": "code",
   "execution_count": 15,
   "metadata": {},
   "outputs": [
    {
     "data": {
      "text/plain": [
       "0   -1.481874\n",
       "2   -0.472933\n",
       "3   -0.268457\n",
       "1   -0.085626\n",
       "4    0.347379\n",
       "7    0.858292\n",
       "5    0.951870\n",
       "6    3.021240\n",
       "Name: a, dtype: float64"
      ]
     },
     "execution_count": 15,
     "metadata": {},
     "output_type": "execute_result"
    }
   ],
   "source": [
    "df1['a'].sort_values()"
   ]
  },
  {
   "cell_type": "code",
   "execution_count": 18,
   "metadata": {},
   "outputs": [
    {
     "data": {
      "text/html": [
       "<div>\n",
       "<style>\n",
       "    .dataframe thead tr:only-child th {\n",
       "        text-align: right;\n",
       "    }\n",
       "\n",
       "    .dataframe thead th {\n",
       "        text-align: left;\n",
       "    }\n",
       "\n",
       "    .dataframe tbody tr th {\n",
       "        vertical-align: top;\n",
       "    }\n",
       "</style>\n",
       "<table border=\"1\" class=\"dataframe\">\n",
       "  <thead>\n",
       "    <tr style=\"text-align: right;\">\n",
       "      <th></th>\n",
       "      <th>a</th>\n",
       "      <th>b</th>\n",
       "      <th>c</th>\n",
       "      <th>d</th>\n",
       "      <th>e</th>\n",
       "    </tr>\n",
       "  </thead>\n",
       "  <tbody>\n",
       "    <tr>\n",
       "      <th>6</th>\n",
       "      <td>3.021240</td>\n",
       "      <td>-1.185422</td>\n",
       "      <td>1.276956</td>\n",
       "      <td>-0.665088</td>\n",
       "      <td>0.227943</td>\n",
       "    </tr>\n",
       "    <tr>\n",
       "      <th>5</th>\n",
       "      <td>0.951870</td>\n",
       "      <td>-0.300156</td>\n",
       "      <td>-0.032580</td>\n",
       "      <td>1.774923</td>\n",
       "      <td>-0.468757</td>\n",
       "    </tr>\n",
       "    <tr>\n",
       "      <th>7</th>\n",
       "      <td>0.858292</td>\n",
       "      <td>0.278474</td>\n",
       "      <td>-1.572653</td>\n",
       "      <td>0.414297</td>\n",
       "      <td>0.328744</td>\n",
       "    </tr>\n",
       "    <tr>\n",
       "      <th>4</th>\n",
       "      <td>0.347379</td>\n",
       "      <td>1.034601</td>\n",
       "      <td>-1.158188</td>\n",
       "      <td>-0.377620</td>\n",
       "      <td>-2.246826</td>\n",
       "    </tr>\n",
       "    <tr>\n",
       "      <th>1</th>\n",
       "      <td>-0.085626</td>\n",
       "      <td>-0.787537</td>\n",
       "      <td>0.594769</td>\n",
       "      <td>1.794650</td>\n",
       "      <td>0.994723</td>\n",
       "    </tr>\n",
       "    <tr>\n",
       "      <th>3</th>\n",
       "      <td>-0.268457</td>\n",
       "      <td>1.198783</td>\n",
       "      <td>0.076785</td>\n",
       "      <td>-1.007322</td>\n",
       "      <td>-1.138956</td>\n",
       "    </tr>\n",
       "    <tr>\n",
       "      <th>2</th>\n",
       "      <td>-0.472933</td>\n",
       "      <td>2.222980</td>\n",
       "      <td>0.628423</td>\n",
       "      <td>-0.246185</td>\n",
       "      <td>-0.690031</td>\n",
       "    </tr>\n",
       "    <tr>\n",
       "      <th>0</th>\n",
       "      <td>-1.481874</td>\n",
       "      <td>0.463623</td>\n",
       "      <td>-0.278336</td>\n",
       "      <td>0.248913</td>\n",
       "      <td>-0.297516</td>\n",
       "    </tr>\n",
       "  </tbody>\n",
       "</table>\n",
       "</div>"
      ],
      "text/plain": [
       "          a         b         c         d         e\n",
       "6  3.021240 -1.185422  1.276956 -0.665088  0.227943\n",
       "5  0.951870 -0.300156 -0.032580  1.774923 -0.468757\n",
       "7  0.858292  0.278474 -1.572653  0.414297  0.328744\n",
       "4  0.347379  1.034601 -1.158188 -0.377620 -2.246826\n",
       "1 -0.085626 -0.787537  0.594769  1.794650  0.994723\n",
       "3 -0.268457  1.198783  0.076785 -1.007322 -1.138956\n",
       "2 -0.472933  2.222980  0.628423 -0.246185 -0.690031\n",
       "0 -1.481874  0.463623 -0.278336  0.248913 -0.297516"
      ]
     },
     "execution_count": 18,
     "metadata": {},
     "output_type": "execute_result"
    }
   ],
   "source": [
    "df1.sort_values('a', ascending=False)"
   ]
  },
  {
   "cell_type": "code",
   "execution_count": null,
   "metadata": {
    "collapsed": true
   },
   "outputs": [],
   "source": []
  }
 ],
 "metadata": {
  "kernelspec": {
   "display_name": "Python 3",
   "language": "python",
   "name": "python3"
  },
  "language_info": {
   "codemirror_mode": {
    "name": "ipython",
    "version": 3
   },
   "file_extension": ".py",
   "mimetype": "text/x-python",
   "name": "python",
   "nbconvert_exporter": "python",
   "pygments_lexer": "ipython3",
   "version": "3.6.1"
  }
 },
 "nbformat": 4,
 "nbformat_minor": 2
}
