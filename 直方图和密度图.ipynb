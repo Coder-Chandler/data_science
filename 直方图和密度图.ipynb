{
 "cells": [
  {
   "cell_type": "code",
   "execution_count": 1,
   "metadata": {
    "collapsed": true
   },
   "outputs": [],
   "source": [
    "import matplotlib.pyplot as plt\n",
    "import numpy as np\n",
    "import pandas as pd\n",
    "from pandas import Series, DataFrame "
   ]
  },
  {
   "cell_type": "code",
   "execution_count": 2,
   "metadata": {
    "collapsed": true
   },
   "outputs": [],
   "source": [
    "s = Series(np.random.randn(1000))"
   ]
  },
  {
   "cell_type": "code",
   "execution_count": 3,
   "metadata": {},
   "outputs": [
    {
     "data": {
      "text/plain": [
       "0    1.504098\n",
       "1   -1.300780\n",
       "2   -0.583729\n",
       "3   -0.281703\n",
       "4   -0.442074\n",
       "dtype: float64"
      ]
     },
     "execution_count": 3,
     "metadata": {},
     "output_type": "execute_result"
    }
   ],
   "source": [
    "s.head()"
   ]
  },
  {
   "cell_type": "code",
   "execution_count": 6,
   "metadata": {},
   "outputs": [
    {
     "data": {
      "text/plain": [
       "(array([   4.,   28.,   79.,  155.,  232.,  229.,  167.,   71.,   27.,    8.]),\n",
       " array([-3.07798965, -2.47265638, -1.86732311, -1.26198985, -0.65665658,\n",
       "        -0.05132331,  0.55400995,  1.15934322,  1.76467648,  2.37000975,\n",
       "         2.97534302]),\n",
       " <a list of 10 Patch objects>)"
      ]
     },
     "execution_count": 6,
     "metadata": {},
     "output_type": "execute_result"
    }
   ],
   "source": [
    "plt.hist(s, rwidth=0.9)"
   ]
  },
  {
   "cell_type": "code",
   "execution_count": 7,
   "metadata": {
    "scrolled": true
   },
   "outputs": [
    {
     "data": {
      "image/png": "[encoded data removed]",
      "text/plain": [
       "<matplotlib.figure.Figure at 0x1108273c8>"
      ]
     },
     "metadata": {},
     "output_type": "display_data"
    }
   ],
   "source": [
    "plt.show()"
   ]
  },
  {
   "cell_type": "code",
   "execution_count": 8,
   "metadata": {
    "collapsed": true
   },
   "outputs": [],
   "source": [
    "a = np.arange(10)"
   ]
  },
  {
   "cell_type": "code",
   "execution_count": 9,
   "metadata": {},
   "outputs": [
    {
     "data": {
      "text/plain": [
       "array([0, 1, 2, 3, 4, 5, 6, 7, 8, 9])"
      ]
     },
     "execution_count": 9,
     "metadata": {},
     "output_type": "execute_result"
    }
   ],
   "source": [
    "a"
   ]
  },
  {
   "cell_type": "code",
   "execution_count": 10,
   "metadata": {},
   "outputs": [
    {
     "data": {
      "image/png": "[encoded data removed]",
      "text/plain": [
       "<matplotlib.figure.Figure at 0x114053da0>"
      ]
     },
     "metadata": {},
     "output_type": "display_data"
    }
   ],
   "source": [
    "plt.hist(a,rwidth=0.9)\n",
    "plt.show()"
   ]
  },
  {
   "cell_type": "code",
   "execution_count": 12,
   "metadata": {},
   "outputs": [
    {
     "data": {
      "text/plain": [
       "0    1.504098\n",
       "1   -1.300780\n",
       "2   -0.583729\n",
       "3   -0.281703\n",
       "4   -0.442074\n",
       "dtype: float64"
      ]
     },
     "execution_count": 12,
     "metadata": {},
     "output_type": "execute_result"
    }
   ],
   "source": [
    "s.head()"
   ]
  },
  {
   "cell_type": "code",
   "execution_count": 13,
   "metadata": {
    "collapsed": true
   },
   "outputs": [],
   "source": [
    "re = plt.hist(s, rwidth=0.9)"
   ]
  },
  {
   "cell_type": "code",
   "execution_count": 14,
   "metadata": {},
   "outputs": [
    {
     "data": {
      "text/plain": [
       "tuple"
      ]
     },
     "execution_count": 14,
     "metadata": {},
     "output_type": "execute_result"
    }
   ],
   "source": [
    "type(re)"
   ]
  },
  {
   "cell_type": "code",
   "execution_count": 15,
   "metadata": {},
   "outputs": [
    {
     "data": {
      "text/plain": [
       "3"
      ]
     },
     "execution_count": 15,
     "metadata": {},
     "output_type": "execute_result"
    }
   ],
   "source": [
    "len(re)"
   ]
  },
  {
   "cell_type": "code",
   "execution_count": 16,
   "metadata": {},
   "outputs": [
    {
     "data": {
      "text/plain": [
       "array([   4.,   28.,   79.,  155.,  232.,  229.,  167.,   71.,   27.,    8.])"
      ]
     },
     "execution_count": 16,
     "metadata": {},
     "output_type": "execute_result"
    }
   ],
   "source": [
    "re[0]"
   ]
  },
  {
   "cell_type": "code",
   "execution_count": 17,
   "metadata": {},
   "outputs": [
    {
     "data": {
      "text/plain": [
       "array([-3.07798965, -2.47265638, -1.86732311, -1.26198985, -0.65665658,\n",
       "       -0.05132331,  0.55400995,  1.15934322,  1.76467648,  2.37000975,\n",
       "        2.97534302])"
      ]
     },
     "execution_count": 17,
     "metadata": {},
     "output_type": "execute_result"
    }
   ],
   "source": [
    "re[1]"
   ]
  },
  {
   "cell_type": "code",
   "execution_count": 18,
   "metadata": {},
   "outputs": [
    {
     "data": {
      "text/plain": [
       "<a list of 10 Patch objects>"
      ]
     },
     "execution_count": 18,
     "metadata": {},
     "output_type": "execute_result"
    }
   ],
   "source": [
    "re[2]"
   ]
  },
  {
   "cell_type": "code",
   "execution_count": 19,
   "metadata": {},
   "outputs": [
    {
     "data": {
      "text/plain": [
       "0    1.504098\n",
       "1   -1.300780\n",
       "2   -0.583729\n",
       "3   -0.281703\n",
       "4   -0.442074\n",
       "dtype: float64"
      ]
     },
     "execution_count": 19,
     "metadata": {},
     "output_type": "execute_result"
    }
   ],
   "source": [
    "s.head()"
   ]
  },
  {
   "cell_type": "code",
   "execution_count": 23,
   "metadata": {},
   "outputs": [
    {
     "data": {
      "image/png": "[encoded data removed]",
      "text/plain": [
       "<matplotlib.figure.Figure at 0x115fe4080>"
      ]
     },
     "metadata": {},
     "output_type": "display_data"
    }
   ],
   "source": [
    "s.plot(kind='kde')\n",
    "plt.show()"
   ]
  },
  {
   "cell_type": "code",
   "execution_count": 24,
   "metadata": {},
   "outputs": [
    {
     "data": {
      "text/plain": [
       "0      1.504098\n",
       "1     -1.300780\n",
       "2     -0.583729\n",
       "3     -0.281703\n",
       "4     -0.442074\n",
       "5     -0.130571\n",
       "6      1.509786\n",
       "7      0.286052\n",
       "8      0.185263\n",
       "9     -0.236924\n",
       "10    -0.630999\n",
       "11     0.872601\n",
       "12    -0.103228\n",
       "13     1.328289\n",
       "14    -0.166194\n",
       "15    -0.858646\n",
       "16     0.141461\n",
       "17    -0.949602\n",
       "18     0.926614\n",
       "19     1.773646\n",
       "20     0.421214\n",
       "21     0.626348\n",
       "22    -0.064792\n",
       "23    -0.840765\n",
       "24    -0.649945\n",
       "25    -0.579798\n",
       "26     1.096420\n",
       "27    -1.175628\n",
       "28     0.189931\n",
       "29    -1.223899\n",
       "         ...   \n",
       "970    0.535903\n",
       "971   -0.538823\n",
       "972   -1.230590\n",
       "973   -1.626286\n",
       "974   -0.200584\n",
       "975    0.765872\n",
       "976   -1.018048\n",
       "977    0.913035\n",
       "978    1.031124\n",
       "979    1.488435\n",
       "980    0.759582\n",
       "981   -0.848726\n",
       "982   -0.058031\n",
       "983    0.785280\n",
       "984   -1.387233\n",
       "985    0.028388\n",
       "986    0.806108\n",
       "987    0.897518\n",
       "988    1.209299\n",
       "989   -0.343607\n",
       "990   -1.121225\n",
       "991   -0.453307\n",
       "992    0.523089\n",
       "993   -0.566399\n",
       "994    0.619174\n",
       "995    0.233092\n",
       "996    0.789579\n",
       "997   -0.314524\n",
       "998   -1.255989\n",
       "999   -0.793887\n",
       "Length: 1000, dtype: float64"
      ]
     },
     "execution_count": 24,
     "metadata": {},
     "output_type": "execute_result"
    }
   ],
   "source": [
    "s"
   ]
  }
 ],
 "metadata": {
  "kernelspec": {
   "display_name": "Python 3",
   "language": "python",
   "name": "python3"
  },
  "language_info": {
   "codemirror_mode": {
    "name": "ipython",
    "version": 3
   },
   "file_extension": ".py",
   "mimetype": "text/x-python",
   "name": "python",
   "nbconvert_exporter": "python",
   "pygments_lexer": "ipython3",
   "version": "3.6.1"
  }
 },
 "nbformat": 4,
 "nbformat_minor": 2
}
