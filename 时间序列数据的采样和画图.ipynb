{
 "cells": [
  {
   "cell_type": "code",
   "execution_count": 1,
   "metadata": {
    "collapsed": true
   },
   "outputs": [],
   "source": [
    "import numpy as np\n",
    "import pandas as pd\n",
    "from pandas import Series, DataFrame"
   ]
  },
  {
   "cell_type": "code",
   "execution_count": 3,
   "metadata": {},
   "outputs": [],
   "source": [
    "t_range = pd.date_range('2016-01-01', '2016-12-31')  # 创建时间序列"
   ]
  },
  {
   "cell_type": "code",
   "execution_count": 4,
   "metadata": {},
   "outputs": [
    {
     "data": {
      "text/plain": [
       "DatetimeIndex(['2016-01-01', '2016-01-02', '2016-01-03', '2016-01-04',\n",
       "               '2016-01-05', '2016-01-06', '2016-01-07', '2016-01-08',\n",
       "               '2016-01-09', '2016-01-10',\n",
       "               ...\n",
       "               '2016-12-22', '2016-12-23', '2016-12-24', '2016-12-25',\n",
       "               '2016-12-26', '2016-12-27', '2016-12-28', '2016-12-29',\n",
       "               '2016-12-30', '2016-12-31'],\n",
       "              dtype='datetime64[ns]', length=366, freq='D')"
      ]
     },
     "execution_count": 4,
     "metadata": {},
     "output_type": "execute_result"
    }
   ],
   "source": [
    "t_range"
   ]
  },
  {
   "cell_type": "code",
   "execution_count": 37,
   "metadata": {},
   "outputs": [
    {
     "data": {
      "text/plain": [
       "2016-01-01 00:00:00   -0.415144\n",
       "2016-01-01 01:00:00    1.422571\n",
       "2016-01-01 02:00:00    0.324452\n",
       "2016-01-01 03:00:00    0.515417\n",
       "2016-01-01 04:00:00   -0.487510\n",
       "Freq: H, dtype: float64"
      ]
     },
     "execution_count": 37,
     "metadata": {},
     "output_type": "execute_result"
    }
   ],
   "source": [
    "s1 = Series(np.random.randn(len(t_range)), index=t_range) \n",
    "s1.head()"
   ]
  },
  {
   "cell_type": "code",
   "execution_count": 9,
   "metadata": {
    "collapsed": true
   },
   "outputs": [],
   "source": [
    "s1_month = s1.resample('M').mean()"
   ]
  },
  {
   "cell_type": "code",
   "execution_count": 10,
   "metadata": {},
   "outputs": [
    {
     "data": {
      "text/plain": [
       "2016-01-31    0.424230\n",
       "2016-02-29   -0.189240\n",
       "2016-03-31    0.001272\n",
       "2016-04-30    0.114133\n",
       "2016-05-31   -0.133116\n",
       "2016-06-30    0.568520\n",
       "2016-07-31   -0.116034\n",
       "2016-08-31    0.363493\n",
       "2016-09-30   -0.231778\n",
       "2016-10-31    0.148370\n",
       "2016-11-30   -0.367446\n",
       "2016-12-31    0.057426\n",
       "Freq: M, dtype: float64"
      ]
     },
     "execution_count": 10,
     "metadata": {},
     "output_type": "execute_result"
    }
   ],
   "source": [
    "s1_month"
   ]
  },
  {
   "cell_type": "code",
   "execution_count": 11,
   "metadata": {},
   "outputs": [
    {
     "data": {
      "text/plain": [
       "DatetimeIndex(['2016-01-31', '2016-02-29', '2016-03-31', '2016-04-30',\n",
       "               '2016-05-31', '2016-06-30', '2016-07-31', '2016-08-31',\n",
       "               '2016-09-30', '2016-10-31', '2016-11-30', '2016-12-31'],\n",
       "              dtype='datetime64[ns]', freq='M')"
      ]
     },
     "execution_count": 11,
     "metadata": {},
     "output_type": "execute_result"
    }
   ],
   "source": [
    "s1_month.index"
   ]
  },
  {
   "cell_type": "code",
   "execution_count": 12,
   "metadata": {},
   "outputs": [
    {
     "data": {
      "text/plain": [
       "2016-01-01 00:00:00   -0.476020\n",
       "2016-01-01 01:00:00   -0.476020\n",
       "2016-01-01 02:00:00   -0.476020\n",
       "2016-01-01 03:00:00   -0.476020\n",
       "2016-01-01 04:00:00   -0.476020\n",
       "2016-01-01 05:00:00   -0.476020\n",
       "2016-01-01 06:00:00   -0.476020\n",
       "2016-01-01 07:00:00   -0.476020\n",
       "2016-01-01 08:00:00   -0.476020\n",
       "2016-01-01 09:00:00   -0.476020\n",
       "2016-01-01 10:00:00   -0.476020\n",
       "2016-01-01 11:00:00   -0.476020\n",
       "2016-01-01 12:00:00   -0.476020\n",
       "2016-01-01 13:00:00   -0.476020\n",
       "2016-01-01 14:00:00   -0.476020\n",
       "2016-01-01 15:00:00   -0.476020\n",
       "2016-01-01 16:00:00   -0.476020\n",
       "2016-01-01 17:00:00   -0.476020\n",
       "2016-01-01 18:00:00   -0.476020\n",
       "2016-01-01 19:00:00   -0.476020\n",
       "2016-01-01 20:00:00   -0.476020\n",
       "2016-01-01 21:00:00   -0.476020\n",
       "2016-01-01 22:00:00   -0.476020\n",
       "2016-01-01 23:00:00   -0.476020\n",
       "2016-01-02 00:00:00    1.686497\n",
       "2016-01-02 01:00:00    1.686497\n",
       "2016-01-02 02:00:00    1.686497\n",
       "2016-01-02 03:00:00    1.686497\n",
       "2016-01-02 04:00:00    1.686497\n",
       "2016-01-02 05:00:00    1.686497\n",
       "                         ...   \n",
       "2016-12-29 19:00:00   -1.118891\n",
       "2016-12-29 20:00:00   -1.118891\n",
       "2016-12-29 21:00:00   -1.118891\n",
       "2016-12-29 22:00:00   -1.118891\n",
       "2016-12-29 23:00:00   -1.118891\n",
       "2016-12-30 00:00:00   -1.546781\n",
       "2016-12-30 01:00:00   -1.546781\n",
       "2016-12-30 02:00:00   -1.546781\n",
       "2016-12-30 03:00:00   -1.546781\n",
       "2016-12-30 04:00:00   -1.546781\n",
       "2016-12-30 05:00:00   -1.546781\n",
       "2016-12-30 06:00:00   -1.546781\n",
       "2016-12-30 07:00:00   -1.546781\n",
       "2016-12-30 08:00:00   -1.546781\n",
       "2016-12-30 09:00:00   -1.546781\n",
       "2016-12-30 10:00:00   -1.546781\n",
       "2016-12-30 11:00:00   -1.546781\n",
       "2016-12-30 12:00:00   -1.546781\n",
       "2016-12-30 13:00:00   -1.546781\n",
       "2016-12-30 14:00:00   -1.546781\n",
       "2016-12-30 15:00:00   -1.546781\n",
       "2016-12-30 16:00:00   -1.546781\n",
       "2016-12-30 17:00:00   -1.546781\n",
       "2016-12-30 18:00:00   -1.546781\n",
       "2016-12-30 19:00:00   -1.546781\n",
       "2016-12-30 20:00:00   -1.546781\n",
       "2016-12-30 21:00:00   -1.546781\n",
       "2016-12-30 22:00:00   -1.546781\n",
       "2016-12-30 23:00:00   -1.546781\n",
       "2016-12-31 00:00:00    1.383642\n",
       "Freq: H, Length: 8761, dtype: float64"
      ]
     },
     "execution_count": 12,
     "metadata": {},
     "output_type": "execute_result"
    }
   ],
   "source": [
    "s1.resample('H').ffill()"
   ]
  },
  {
   "cell_type": "code",
   "execution_count": 15,
   "metadata": {
    "collapsed": true
   },
   "outputs": [],
   "source": [
    "t_range = pd.date_range('2016-01-01', '2016-12-31', freq='H')"
   ]
  },
  {
   "cell_type": "code",
   "execution_count": 16,
   "metadata": {},
   "outputs": [
    {
     "data": {
      "text/plain": [
       "DatetimeIndex(['2016-01-01 00:00:00', '2016-01-01 01:00:00',\n",
       "               '2016-01-01 02:00:00', '2016-01-01 03:00:00',\n",
       "               '2016-01-01 04:00:00', '2016-01-01 05:00:00',\n",
       "               '2016-01-01 06:00:00', '2016-01-01 07:00:00',\n",
       "               '2016-01-01 08:00:00', '2016-01-01 09:00:00',\n",
       "               ...\n",
       "               '2016-12-30 15:00:00', '2016-12-30 16:00:00',\n",
       "               '2016-12-30 17:00:00', '2016-12-30 18:00:00',\n",
       "               '2016-12-30 19:00:00', '2016-12-30 20:00:00',\n",
       "               '2016-12-30 21:00:00', '2016-12-30 22:00:00',\n",
       "               '2016-12-30 23:00:00', '2016-12-31 00:00:00'],\n",
       "              dtype='datetime64[ns]', length=8761, freq='H')"
      ]
     },
     "execution_count": 16,
     "metadata": {},
     "output_type": "execute_result"
    }
   ],
   "source": [
    "t_range"
   ]
  },
  {
   "cell_type": "code",
   "execution_count": 17,
   "metadata": {
    "collapsed": true
   },
   "outputs": [],
   "source": [
    "stock_df = DataFrame(index=t_range)"
   ]
  },
  {
   "cell_type": "code",
   "execution_count": 25,
   "metadata": {},
   "outputs": [],
   "source": [
    "stock_df['BABA'] = np.random.randint(80,160, size=len(t_range))\n",
    "stock_df['TENCENT'] = np.random.randint(30,50,size=len(t_range))"
   ]
  },
  {
   "cell_type": "code",
   "execution_count": 26,
   "metadata": {},
   "outputs": [
    {
     "data": {
      "text/html": [
       "<div>\n",
       "<style>\n",
       "    .dataframe thead tr:only-child th {\n",
       "        text-align: right;\n",
       "    }\n",
       "\n",
       "    .dataframe thead th {\n",
       "        text-align: left;\n",
       "    }\n",
       "\n",
       "    .dataframe tbody tr th {\n",
       "        vertical-align: top;\n",
       "    }\n",
       "</style>\n",
       "<table border=\"1\" class=\"dataframe\">\n",
       "  <thead>\n",
       "    <tr style=\"text-align: right;\">\n",
       "      <th></th>\n",
       "      <th>BABA</th>\n",
       "      <th>TENCENT</th>\n",
       "    </tr>\n",
       "  </thead>\n",
       "  <tbody>\n",
       "    <tr>\n",
       "      <th>2016-01-01 00:00:00</th>\n",
       "      <td>104</td>\n",
       "      <td>49</td>\n",
       "    </tr>\n",
       "    <tr>\n",
       "      <th>2016-01-01 01:00:00</th>\n",
       "      <td>132</td>\n",
       "      <td>42</td>\n",
       "    </tr>\n",
       "    <tr>\n",
       "      <th>2016-01-01 02:00:00</th>\n",
       "      <td>132</td>\n",
       "      <td>40</td>\n",
       "    </tr>\n",
       "    <tr>\n",
       "      <th>2016-01-01 03:00:00</th>\n",
       "      <td>113</td>\n",
       "      <td>30</td>\n",
       "    </tr>\n",
       "    <tr>\n",
       "      <th>2016-01-01 04:00:00</th>\n",
       "      <td>158</td>\n",
       "      <td>35</td>\n",
       "    </tr>\n",
       "  </tbody>\n",
       "</table>\n",
       "</div>"
      ],
      "text/plain": [
       "                     BABA  TENCENT\n",
       "2016-01-01 00:00:00   104       49\n",
       "2016-01-01 01:00:00   132       42\n",
       "2016-01-01 02:00:00   132       40\n",
       "2016-01-01 03:00:00   113       30\n",
       "2016-01-01 04:00:00   158       35"
      ]
     },
     "execution_count": 26,
     "metadata": {},
     "output_type": "execute_result"
    }
   ],
   "source": [
    "stock_df.head()"
   ]
  },
  {
   "cell_type": "code",
   "execution_count": 27,
   "metadata": {},
   "outputs": [
    {
     "data": {
      "text/plain": [
       "<matplotlib.axes._subplots.AxesSubplot at 0x1150a0e48>"
      ]
     },
     "execution_count": 27,
     "metadata": {},
     "output_type": "execute_result"
    }
   ],
   "source": [
    "stock_df.plot()"
   ]
  },
  {
   "cell_type": "code",
   "execution_count": 28,
   "metadata": {
    "collapsed": true
   },
   "outputs": [],
   "source": [
    "import matplotlib.pyplot as plt"
   ]
  },
  {
   "cell_type": "code",
   "execution_count": 29,
   "metadata": {},
   "outputs": [
    {
     "data": {
      "image/png": "[encoded data removed]",
      "text/plain": [
       "<matplotlib.figure.Figure at 0x114337320>"
      ]
     },
     "metadata": {},
     "output_type": "display_data"
    }
   ],
   "source": [
    "plt.show()"
   ]
  },
  {
   "cell_type": "code",
   "execution_count": 30,
   "metadata": {
    "collapsed": true
   },
   "outputs": [],
   "source": [
    "week_df = DataFrame()"
   ]
  },
  {
   "cell_type": "code",
   "execution_count": 31,
   "metadata": {
    "collapsed": true
   },
   "outputs": [],
   "source": [
    "week_df['BABA'] = stock_df['BABA'].resample('W').mean()\n",
    "week_df['TENCENT'] = stock_df['TENCENT'].resample('W').mean()"
   ]
  },
  {
   "cell_type": "code",
   "execution_count": 33,
   "metadata": {},
   "outputs": [
    {
     "data": {
      "text/html": [
       "<div>\n",
       "<style>\n",
       "    .dataframe thead tr:only-child th {\n",
       "        text-align: right;\n",
       "    }\n",
       "\n",
       "    .dataframe thead th {\n",
       "        text-align: left;\n",
       "    }\n",
       "\n",
       "    .dataframe tbody tr th {\n",
       "        vertical-align: top;\n",
       "    }\n",
       "</style>\n",
       "<table border=\"1\" class=\"dataframe\">\n",
       "  <thead>\n",
       "    <tr style=\"text-align: right;\">\n",
       "      <th></th>\n",
       "      <th>BABA</th>\n",
       "      <th>TENCENT</th>\n",
       "    </tr>\n",
       "  </thead>\n",
       "  <tbody>\n",
       "    <tr>\n",
       "      <th>2016-01-03</th>\n",
       "      <td>120.708333</td>\n",
       "      <td>40.611111</td>\n",
       "    </tr>\n",
       "    <tr>\n",
       "      <th>2016-01-10</th>\n",
       "      <td>120.386905</td>\n",
       "      <td>39.845238</td>\n",
       "    </tr>\n",
       "    <tr>\n",
       "      <th>2016-01-17</th>\n",
       "      <td>121.220238</td>\n",
       "      <td>39.726190</td>\n",
       "    </tr>\n",
       "    <tr>\n",
       "      <th>2016-01-24</th>\n",
       "      <td>119.875000</td>\n",
       "      <td>40.071429</td>\n",
       "    </tr>\n",
       "    <tr>\n",
       "      <th>2016-01-31</th>\n",
       "      <td>118.791667</td>\n",
       "      <td>39.630952</td>\n",
       "    </tr>\n",
       "  </tbody>\n",
       "</table>\n",
       "</div>"
      ],
      "text/plain": [
       "                  BABA    TENCENT\n",
       "2016-01-03  120.708333  40.611111\n",
       "2016-01-10  120.386905  39.845238\n",
       "2016-01-17  121.220238  39.726190\n",
       "2016-01-24  119.875000  40.071429\n",
       "2016-01-31  118.791667  39.630952"
      ]
     },
     "execution_count": 33,
     "metadata": {},
     "output_type": "execute_result"
    }
   ],
   "source": [
    "week_df.head()"
   ]
  },
  {
   "cell_type": "code",
   "execution_count": 34,
   "metadata": {},
   "outputs": [
    {
     "data": {
      "text/plain": [
       "<matplotlib.axes._subplots.AxesSubplot at 0x115769d30>"
      ]
     },
     "execution_count": 34,
     "metadata": {},
     "output_type": "execute_result"
    }
   ],
   "source": [
    "week_df.plot()"
   ]
  },
  {
   "cell_type": "code",
   "execution_count": 35,
   "metadata": {},
   "outputs": [
    {
     "data": {
      "image/png": "[encoded data removed]",
      "text/plain": [
       "<matplotlib.figure.Figure at 0x10a706588>"
      ]
     },
     "metadata": {},
     "output_type": "display_data"
    }
   ],
   "source": [
    "plt.show()"
   ]
  },
  {
   "cell_type": "code",
   "execution_count": null,
   "metadata": {
    "collapsed": true
   },
   "outputs": [],
   "source": []
  }
 ],
 "metadata": {
  "kernelspec": {
   "display_name": "Python 3",
   "language": "python",
   "name": "python3"
  },
  "language_info": {
   "codemirror_mode": {
    "name": "ipython",
    "version": 3
   },
   "file_extension": ".py",
   "mimetype": "text/x-python",
   "name": "python",
   "nbconvert_exporter": "python",
   "pygments_lexer": "ipython3",
   "version": "3.6.1"
  }
 },
 "nbformat": 4,
 "nbformat_minor": 2
}
