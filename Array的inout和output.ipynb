{
 "cells": [
  {
   "cell_type": "markdown",
   "metadata": {},
   "source": [
    "使用pickle序列化numpy array"
   ]
  },
  {
   "cell_type": "code",
   "execution_count": 1,
   "metadata": {
    "collapsed": true
   },
   "outputs": [],
   "source": [
    "import pickle\n",
    "import numpy as np"
   ]
  },
  {
   "cell_type": "code",
   "execution_count": 2,
   "metadata": {
    "collapsed": true
   },
   "outputs": [],
   "source": [
    "x = np.arange(10)  # 生成长度为10的一维数组"
   ]
  },
  {
   "cell_type": "code",
   "execution_count": 3,
   "metadata": {},
   "outputs": [
    {
     "data": {
      "text/plain": [
       "array([0, 1, 2, 3, 4, 5, 6, 7, 8, 9])"
      ]
     },
     "execution_count": 3,
     "metadata": {},
     "output_type": "execute_result"
    }
   ],
   "source": [
    "x"
   ]
  },
  {
   "cell_type": "code",
   "execution_count": 4,
   "metadata": {
    "collapsed": true
   },
   "outputs": [],
   "source": [
    "f = open(\"x.pkl\", \"wb\")  # 打开文件操作，和python并无区别"
   ]
  },
  {
   "cell_type": "code",
   "execution_count": 5,
   "metadata": {
    "collapsed": true
   },
   "outputs": [],
   "source": [
    "pickle.dump(x, f)  # 使用pickle把数组x给他dump到f中"
   ]
  },
  {
   "cell_type": "code",
   "execution_count": 6,
   "metadata": {},
   "outputs": [
    {
     "name": "stdout",
     "output_type": "stream",
     "text": [
      "\u001b[34mApplications\u001b[m\u001b[m                 access.log\r\n",
      "Array.ipynb                  access_clean.log\r\n",
      "Array的inout和output.ipynb   \u001b[34manaconda\u001b[m\u001b[m\r\n",
      "\u001b[34mDesktop\u001b[m\u001b[m                      derby.log\r\n",
      "\u001b[34mDocuments\u001b[m\u001b[m                    index.html\r\n",
      "\u001b[34mDownloads\u001b[m\u001b[m                    \u001b[34mmetastore_db\u001b[m\u001b[m\r\n",
      "\u001b[34mLibrary\u001b[m\u001b[m                      part-00001\r\n",
      "\u001b[34mMovies\u001b[m\u001b[m                       \u001b[34mseaborn-data\u001b[m\u001b[m\r\n",
      "\u001b[34mMusic\u001b[m\u001b[m                        x.pkl\r\n",
      "\u001b[34mPictures\u001b[m\u001b[m                     数组与矩阵运算.ipynb\r\n",
      "\u001b[34mPublic\u001b[m\u001b[m\r\n"
     ]
    }
   ],
   "source": [
    "!ls  # 查看目录下多出了一个x.pkl文件"
   ]
  },
  {
   "cell_type": "code",
   "execution_count": 7,
   "metadata": {
    "collapsed": true
   },
   "outputs": [],
   "source": [
    "f = open(\"x.pkl\", \"rb\")  # 读取x.pkl文件"
   ]
  },
  {
   "cell_type": "code",
   "execution_count": 8,
   "metadata": {},
   "outputs": [
    {
     "data": {
      "text/plain": [
       "array([0, 1, 2, 3, 4, 5, 6, 7, 8, 9])"
      ]
     },
     "execution_count": 8,
     "metadata": {},
     "output_type": "execute_result"
    }
   ],
   "source": [
    "pickle.load(f)  # 通过pickle查看"
   ]
  },
  {
   "cell_type": "markdown",
   "metadata": {},
   "source": [
    "使用numpy序列化array到硬盘"
   ]
  },
  {
   "cell_type": "code",
   "execution_count": 9,
   "metadata": {
    "collapsed": true
   },
   "outputs": [],
   "source": [
    "np.save(\"one_array\", x)  "
   ]
  },
  {
   "cell_type": "code",
   "execution_count": 10,
   "metadata": {},
   "outputs": [
    {
     "name": "stdout",
     "output_type": "stream",
     "text": [
      "\u001b[34mApplications\u001b[m\u001b[m                 access.log\r\n",
      "Array.ipynb                  access_clean.log\r\n",
      "Array的inout和output.ipynb   \u001b[34manaconda\u001b[m\u001b[m\r\n",
      "\u001b[34mDesktop\u001b[m\u001b[m                      derby.log\r\n",
      "\u001b[34mDocuments\u001b[m\u001b[m                    index.html\r\n",
      "\u001b[34mDownloads\u001b[m\u001b[m                    \u001b[34mmetastore_db\u001b[m\u001b[m\r\n",
      "\u001b[34mLibrary\u001b[m\u001b[m                      one_array.npy\r\n",
      "\u001b[34mMovies\u001b[m\u001b[m                       part-00001\r\n",
      "\u001b[34mMusic\u001b[m\u001b[m                        \u001b[34mseaborn-data\u001b[m\u001b[m\r\n",
      "\u001b[34mPictures\u001b[m\u001b[m                     x.pkl\r\n",
      "\u001b[34mPublic\u001b[m\u001b[m                       数组与矩阵运算.ipynb\r\n"
     ]
    }
   ],
   "source": [
    "!ls"
   ]
  },
  {
   "cell_type": "code",
   "execution_count": 11,
   "metadata": {},
   "outputs": [
    {
     "data": {
      "text/plain": [
       "array([0, 1, 2, 3, 4, 5, 6, 7, 8, 9])"
      ]
     },
     "execution_count": 11,
     "metadata": {},
     "output_type": "execute_result"
    }
   ],
   "source": [
    "np.load(\"one_array.npy\")"
   ]
  },
  {
   "cell_type": "code",
   "execution_count": 12,
   "metadata": {
    "collapsed": true
   },
   "outputs": [],
   "source": [
    "y = np.arange(20)"
   ]
  },
  {
   "cell_type": "code",
   "execution_count": 13,
   "metadata": {},
   "outputs": [
    {
     "data": {
      "text/plain": [
       "array([ 0,  1,  2,  3,  4,  5,  6,  7,  8,  9, 10, 11, 12, 13, 14, 15, 16,\n",
       "       17, 18, 19])"
      ]
     },
     "execution_count": 13,
     "metadata": {},
     "output_type": "execute_result"
    }
   ],
   "source": [
    "y"
   ]
  },
  {
   "cell_type": "code",
   "execution_count": 14,
   "metadata": {
    "collapsed": true
   },
   "outputs": [],
   "source": [
    "np.savez(\"two_array.npz\", a=x, b=y)  # 通过numpy的savez把两个数组保存到一个npz压缩文件中，并分别取名为a，b"
   ]
  },
  {
   "cell_type": "code",
   "execution_count": 15,
   "metadata": {},
   "outputs": [
    {
     "name": "stdout",
     "output_type": "stream",
     "text": [
      "\u001b[34mApplications\u001b[m\u001b[m                 access_clean.log\r\n",
      "Array.ipynb                  \u001b[34manaconda\u001b[m\u001b[m\r\n",
      "Array的inout和output.ipynb   derby.log\r\n",
      "\u001b[34mDesktop\u001b[m\u001b[m                      index.html\r\n",
      "\u001b[34mDocuments\u001b[m\u001b[m                    \u001b[34mmetastore_db\u001b[m\u001b[m\r\n",
      "\u001b[34mDownloads\u001b[m\u001b[m                    one_array.npy\r\n",
      "\u001b[34mLibrary\u001b[m\u001b[m                      part-00001\r\n",
      "\u001b[34mMovies\u001b[m\u001b[m                       \u001b[34mseaborn-data\u001b[m\u001b[m\r\n",
      "\u001b[34mMusic\u001b[m\u001b[m                        two_array.npz\r\n",
      "\u001b[34mPictures\u001b[m\u001b[m                     x.pkl\r\n",
      "\u001b[34mPublic\u001b[m\u001b[m                       数组与矩阵运算.ipynb\r\n",
      "access.log\r\n"
     ]
    }
   ],
   "source": [
    "!ls  # 目录下多出two_array.npz的压缩文件"
   ]
  },
  {
   "cell_type": "code",
   "execution_count": 16,
   "metadata": {
    "collapsed": true
   },
   "outputs": [],
   "source": [
    "c = np.load(\"two_array.npz\")  # 读取two_array.npz压缩文件"
   ]
  },
  {
   "cell_type": "code",
   "execution_count": 17,
   "metadata": {},
   "outputs": [
    {
     "data": {
      "text/plain": [
       "array([0, 1, 2, 3, 4, 5, 6, 7, 8, 9])"
      ]
     },
     "execution_count": 17,
     "metadata": {},
     "output_type": "execute_result"
    }
   ],
   "source": [
    "c[\"a\"]"
   ]
  },
  {
   "cell_type": "code",
   "execution_count": 18,
   "metadata": {},
   "outputs": [
    {
     "data": {
      "text/plain": [
       "array([ 0,  1,  2,  3,  4,  5,  6,  7,  8,  9, 10, 11, 12, 13, 14, 15, 16,\n",
       "       17, 18, 19])"
      ]
     },
     "execution_count": 18,
     "metadata": {},
     "output_type": "execute_result"
    }
   ],
   "source": [
    "c[\"b\"]"
   ]
  }
 ],
 "metadata": {
  "kernelspec": {
   "display_name": "Python 3",
   "language": "python",
   "name": "python3"
  },
  "language_info": {
   "codemirror_mode": {
    "name": "ipython",
    "version": 3
   },
   "file_extension": ".py",
   "mimetype": "text/x-python",
   "name": "python",
   "nbconvert_exporter": "python",
   "pygments_lexer": "ipython3",
   "version": "3.6.1"
  }
 },
 "nbformat": 4,
 "nbformat_minor": 2
}
