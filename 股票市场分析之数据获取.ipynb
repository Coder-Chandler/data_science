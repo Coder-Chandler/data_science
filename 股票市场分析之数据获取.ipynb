{
 "cells": [
  {
   "cell_type": "code",
   "execution_count": 3,
   "metadata": {
    "collapsed": true
   },
   "outputs": [],
   "source": [
    "import pandas_datareader as pdr\n",
    "alibaba = pdr.get_data_yahoo('BABA')"
   ]
  },
  {
   "cell_type": "code",
   "execution_count": 6,
   "metadata": {},
   "outputs": [
    {
     "data": {
      "text/html": [
       "<div>\n",
       "<style>\n",
       "    .dataframe thead tr:only-child th {\n",
       "        text-align: right;\n",
       "    }\n",
       "\n",
       "    .dataframe thead th {\n",
       "        text-align: left;\n",
       "    }\n",
       "\n",
       "    .dataframe tbody tr th {\n",
       "        vertical-align: top;\n",
       "    }\n",
       "</style>\n",
       "<table border=\"1\" class=\"dataframe\">\n",
       "  <thead>\n",
       "    <tr style=\"text-align: right;\">\n",
       "      <th></th>\n",
       "      <th>Open</th>\n",
       "      <th>High</th>\n",
       "      <th>Low</th>\n",
       "      <th>Close</th>\n",
       "      <th>Adj Close</th>\n",
       "      <th>Volume</th>\n",
       "    </tr>\n",
       "    <tr>\n",
       "      <th>Date</th>\n",
       "      <th></th>\n",
       "      <th></th>\n",
       "      <th></th>\n",
       "      <th></th>\n",
       "      <th></th>\n",
       "      <th></th>\n",
       "    </tr>\n",
       "  </thead>\n",
       "  <tbody>\n",
       "    <tr>\n",
       "      <th>2014-09-19</th>\n",
       "      <td>92.699997</td>\n",
       "      <td>99.699997</td>\n",
       "      <td>89.949997</td>\n",
       "      <td>93.889999</td>\n",
       "      <td>93.889999</td>\n",
       "      <td>271879400</td>\n",
       "    </tr>\n",
       "    <tr>\n",
       "      <th>2014-09-22</th>\n",
       "      <td>92.699997</td>\n",
       "      <td>92.949997</td>\n",
       "      <td>89.500000</td>\n",
       "      <td>89.889999</td>\n",
       "      <td>89.889999</td>\n",
       "      <td>66657800</td>\n",
       "    </tr>\n",
       "    <tr>\n",
       "      <th>2014-09-23</th>\n",
       "      <td>88.940002</td>\n",
       "      <td>90.480003</td>\n",
       "      <td>86.620003</td>\n",
       "      <td>87.169998</td>\n",
       "      <td>87.169998</td>\n",
       "      <td>39009800</td>\n",
       "    </tr>\n",
       "    <tr>\n",
       "      <th>2014-09-24</th>\n",
       "      <td>88.470001</td>\n",
       "      <td>90.570000</td>\n",
       "      <td>87.220001</td>\n",
       "      <td>90.570000</td>\n",
       "      <td>90.570000</td>\n",
       "      <td>32088000</td>\n",
       "    </tr>\n",
       "    <tr>\n",
       "      <th>2014-09-25</th>\n",
       "      <td>91.089996</td>\n",
       "      <td>91.500000</td>\n",
       "      <td>88.500000</td>\n",
       "      <td>88.919998</td>\n",
       "      <td>88.919998</td>\n",
       "      <td>28598000</td>\n",
       "    </tr>\n",
       "  </tbody>\n",
       "</table>\n",
       "</div>"
      ],
      "text/plain": [
       "                 Open       High        Low      Close  Adj Close     Volume\n",
       "Date                                                                        \n",
       "2014-09-19  92.699997  99.699997  89.949997  93.889999  93.889999  271879400\n",
       "2014-09-22  92.699997  92.949997  89.500000  89.889999  89.889999   66657800\n",
       "2014-09-23  88.940002  90.480003  86.620003  87.169998  87.169998   39009800\n",
       "2014-09-24  88.470001  90.570000  87.220001  90.570000  90.570000   32088000\n",
       "2014-09-25  91.089996  91.500000  88.500000  88.919998  88.919998   28598000"
      ]
     },
     "execution_count": 6,
     "metadata": {},
     "output_type": "execute_result"
    }
   ],
   "source": [
    "alibaba.head()"
   ]
  },
  {
   "cell_type": "code",
   "execution_count": 8,
   "metadata": {},
   "outputs": [
    {
     "data": {
      "text/plain": [
       "Index(['Open', 'High', 'Low', 'Close', 'Adj Close', 'Volume'], dtype='object')"
      ]
     },
     "execution_count": 8,
     "metadata": {},
     "output_type": "execute_result"
    }
   ],
   "source": [
    "alibaba.columns"
   ]
  },
  {
   "cell_type": "code",
   "execution_count": 9,
   "metadata": {},
   "outputs": [
    {
     "data": {
      "text/plain": [
       "(800, 6)"
      ]
     },
     "execution_count": 9,
     "metadata": {},
     "output_type": "execute_result"
    }
   ],
   "source": [
    "alibaba.shape"
   ]
  },
  {
   "cell_type": "code",
   "execution_count": 10,
   "metadata": {},
   "outputs": [
    {
     "data": {
      "text/html": [
       "<div>\n",
       "<style>\n",
       "    .dataframe thead tr:only-child th {\n",
       "        text-align: right;\n",
       "    }\n",
       "\n",
       "    .dataframe thead th {\n",
       "        text-align: left;\n",
       "    }\n",
       "\n",
       "    .dataframe tbody tr th {\n",
       "        vertical-align: top;\n",
       "    }\n",
       "</style>\n",
       "<table border=\"1\" class=\"dataframe\">\n",
       "  <thead>\n",
       "    <tr style=\"text-align: right;\">\n",
       "      <th></th>\n",
       "      <th>Open</th>\n",
       "      <th>High</th>\n",
       "      <th>Low</th>\n",
       "      <th>Close</th>\n",
       "      <th>Adj Close</th>\n",
       "      <th>Volume</th>\n",
       "    </tr>\n",
       "    <tr>\n",
       "      <th>Date</th>\n",
       "      <th></th>\n",
       "      <th></th>\n",
       "      <th></th>\n",
       "      <th></th>\n",
       "      <th></th>\n",
       "      <th></th>\n",
       "    </tr>\n",
       "  </thead>\n",
       "  <tbody>\n",
       "    <tr>\n",
       "      <th>2017-11-14</th>\n",
       "      <td>184.300003</td>\n",
       "      <td>184.380005</td>\n",
       "      <td>181.149994</td>\n",
       "      <td>181.789993</td>\n",
       "      <td>181.789993</td>\n",
       "      <td>14475300</td>\n",
       "    </tr>\n",
       "    <tr>\n",
       "      <th>2017-11-15</th>\n",
       "      <td>179.369995</td>\n",
       "      <td>181.880005</td>\n",
       "      <td>176.735992</td>\n",
       "      <td>181.479996</td>\n",
       "      <td>181.479996</td>\n",
       "      <td>16567000</td>\n",
       "    </tr>\n",
       "    <tr>\n",
       "      <th>2017-11-16</th>\n",
       "      <td>183.309998</td>\n",
       "      <td>186.270004</td>\n",
       "      <td>183.119995</td>\n",
       "      <td>185.429993</td>\n",
       "      <td>185.429993</td>\n",
       "      <td>18389500</td>\n",
       "    </tr>\n",
       "    <tr>\n",
       "      <th>2017-11-17</th>\n",
       "      <td>185.919998</td>\n",
       "      <td>186.500000</td>\n",
       "      <td>184.669998</td>\n",
       "      <td>185.130005</td>\n",
       "      <td>185.130005</td>\n",
       "      <td>13377400</td>\n",
       "    </tr>\n",
       "    <tr>\n",
       "      <th>2017-11-20</th>\n",
       "      <td>187.600006</td>\n",
       "      <td>190.000000</td>\n",
       "      <td>186.611099</td>\n",
       "      <td>187.190002</td>\n",
       "      <td>187.190002</td>\n",
       "      <td>16611012</td>\n",
       "    </tr>\n",
       "  </tbody>\n",
       "</table>\n",
       "</div>"
      ],
      "text/plain": [
       "                  Open        High         Low       Close   Adj Close  \\\n",
       "Date                                                                     \n",
       "2017-11-14  184.300003  184.380005  181.149994  181.789993  181.789993   \n",
       "2017-11-15  179.369995  181.880005  176.735992  181.479996  181.479996   \n",
       "2017-11-16  183.309998  186.270004  183.119995  185.429993  185.429993   \n",
       "2017-11-17  185.919998  186.500000  184.669998  185.130005  185.130005   \n",
       "2017-11-20  187.600006  190.000000  186.611099  187.190002  187.190002   \n",
       "\n",
       "              Volume  \n",
       "Date                  \n",
       "2017-11-14  14475300  \n",
       "2017-11-15  16567000  \n",
       "2017-11-16  18389500  \n",
       "2017-11-17  13377400  \n",
       "2017-11-20  16611012  "
      ]
     },
     "execution_count": 10,
     "metadata": {},
     "output_type": "execute_result"
    }
   ],
   "source": [
    "alibaba.tail()"
   ]
  },
  {
   "cell_type": "code",
   "execution_count": 11,
   "metadata": {},
   "outputs": [
    {
     "data": {
      "text/html": [
       "<div>\n",
       "<style>\n",
       "    .dataframe thead tr:only-child th {\n",
       "        text-align: right;\n",
       "    }\n",
       "\n",
       "    .dataframe thead th {\n",
       "        text-align: left;\n",
       "    }\n",
       "\n",
       "    .dataframe tbody tr th {\n",
       "        vertical-align: top;\n",
       "    }\n",
       "</style>\n",
       "<table border=\"1\" class=\"dataframe\">\n",
       "  <thead>\n",
       "    <tr style=\"text-align: right;\">\n",
       "      <th></th>\n",
       "      <th>Open</th>\n",
       "      <th>High</th>\n",
       "      <th>Low</th>\n",
       "      <th>Close</th>\n",
       "      <th>Adj Close</th>\n",
       "      <th>Volume</th>\n",
       "    </tr>\n",
       "  </thead>\n",
       "  <tbody>\n",
       "    <tr>\n",
       "      <th>count</th>\n",
       "      <td>800.000000</td>\n",
       "      <td>800.000000</td>\n",
       "      <td>800.000000</td>\n",
       "      <td>800.000000</td>\n",
       "      <td>800.000000</td>\n",
       "      <td>8.000000e+02</td>\n",
       "    </tr>\n",
       "    <tr>\n",
       "      <th>mean</th>\n",
       "      <td>100.069592</td>\n",
       "      <td>101.172521</td>\n",
       "      <td>98.803915</td>\n",
       "      <td>99.991112</td>\n",
       "      <td>99.991112</td>\n",
       "      <td>1.681676e+07</td>\n",
       "    </tr>\n",
       "    <tr>\n",
       "      <th>std</th>\n",
       "      <td>30.589031</td>\n",
       "      <td>30.753483</td>\n",
       "      <td>30.251180</td>\n",
       "      <td>30.524673</td>\n",
       "      <td>30.524673</td>\n",
       "      <td>1.417836e+07</td>\n",
       "    </tr>\n",
       "    <tr>\n",
       "      <th>min</th>\n",
       "      <td>57.299999</td>\n",
       "      <td>58.650002</td>\n",
       "      <td>57.200001</td>\n",
       "      <td>57.389999</td>\n",
       "      <td>57.389999</td>\n",
       "      <td>3.775300e+06</td>\n",
       "    </tr>\n",
       "    <tr>\n",
       "      <th>25%</th>\n",
       "      <td>80.085001</td>\n",
       "      <td>81.170002</td>\n",
       "      <td>79.229998</td>\n",
       "      <td>79.990000</td>\n",
       "      <td>79.990000</td>\n",
       "      <td>1.004505e+07</td>\n",
       "    </tr>\n",
       "    <tr>\n",
       "      <th>50%</th>\n",
       "      <td>89.675003</td>\n",
       "      <td>90.840000</td>\n",
       "      <td>88.479999</td>\n",
       "      <td>89.285000</td>\n",
       "      <td>89.285000</td>\n",
       "      <td>1.345195e+07</td>\n",
       "    </tr>\n",
       "    <tr>\n",
       "      <th>75%</th>\n",
       "      <td>107.094997</td>\n",
       "      <td>108.295002</td>\n",
       "      <td>106.001251</td>\n",
       "      <td>107.297500</td>\n",
       "      <td>107.297500</td>\n",
       "      <td>1.910992e+07</td>\n",
       "    </tr>\n",
       "    <tr>\n",
       "      <th>max</th>\n",
       "      <td>190.990005</td>\n",
       "      <td>191.220001</td>\n",
       "      <td>187.000000</td>\n",
       "      <td>188.509995</td>\n",
       "      <td>188.509995</td>\n",
       "      <td>2.718794e+08</td>\n",
       "    </tr>\n",
       "  </tbody>\n",
       "</table>\n",
       "</div>"
      ],
      "text/plain": [
       "             Open        High         Low       Close   Adj Close  \\\n",
       "count  800.000000  800.000000  800.000000  800.000000  800.000000   \n",
       "mean   100.069592  101.172521   98.803915   99.991112   99.991112   \n",
       "std     30.589031   30.753483   30.251180   30.524673   30.524673   \n",
       "min     57.299999   58.650002   57.200001   57.389999   57.389999   \n",
       "25%     80.085001   81.170002   79.229998   79.990000   79.990000   \n",
       "50%     89.675003   90.840000   88.479999   89.285000   89.285000   \n",
       "75%    107.094997  108.295002  106.001251  107.297500  107.297500   \n",
       "max    190.990005  191.220001  187.000000  188.509995  188.509995   \n",
       "\n",
       "             Volume  \n",
       "count  8.000000e+02  \n",
       "mean   1.681676e+07  \n",
       "std    1.417836e+07  \n",
       "min    3.775300e+06  \n",
       "25%    1.004505e+07  \n",
       "50%    1.345195e+07  \n",
       "75%    1.910992e+07  \n",
       "max    2.718794e+08  "
      ]
     },
     "execution_count": 11,
     "metadata": {},
     "output_type": "execute_result"
    }
   ],
   "source": [
    "alibaba.describe()"
   ]
  },
  {
   "cell_type": "code",
   "execution_count": 12,
   "metadata": {},
   "outputs": [
    {
     "name": "stdout",
     "output_type": "stream",
     "text": [
      "<class 'pandas.core.frame.DataFrame'>\n",
      "DatetimeIndex: 800 entries, 2014-09-19 to 2017-11-20\n",
      "Data columns (total 6 columns):\n",
      "Open         800 non-null float64\n",
      "High         800 non-null float64\n",
      "Low          800 non-null float64\n",
      "Close        800 non-null float64\n",
      "Adj Close    800 non-null float64\n",
      "Volume       800 non-null int64\n",
      "dtypes: float64(5), int64(1)\n",
      "memory usage: 43.8 KB\n"
     ]
    }
   ],
   "source": [
    "alibaba.info()"
   ]
  },
  {
   "cell_type": "code",
   "execution_count": null,
   "metadata": {
    "collapsed": true
   },
   "outputs": [],
   "source": []
  }
 ],
 "metadata": {
  "kernelspec": {
   "display_name": "Python 3",
   "language": "python",
   "name": "python3"
  },
  "language_info": {
   "codemirror_mode": {
    "name": "ipython",
    "version": 3
   },
   "file_extension": ".py",
   "mimetype": "text/x-python",
   "name": "python",
   "nbconvert_exporter": "python",
   "pygments_lexer": "ipython3",
   "version": "3.6.1"
  }
 },
 "nbformat": 4,
 "nbformat_minor": 2
}
